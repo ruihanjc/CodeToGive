{
 "cells": [
  {
   "cell_type": "code",
   "execution_count": 2,
   "id": "9590fa39-b203-4d98-98d8-3d4da5608017",
   "metadata": {},
   "outputs": [],
   "source": [
    "import openai\n",
    "\n",
    "openai.api_key = \"\"\n",
    "gpt_model = \"gpt-3.5-turbo\""
   ]
  },
  {
   "cell_type": "code",
   "execution_count": 6,
   "id": "67d3ea9b-9210-4c9f-a677-f8cdda11e8a2",
   "metadata": {},
   "outputs": [],
   "source": [
    "response = openai.ChatCompletion.create(\n",
    "    model=gpt_model,\n",
    "    messages=[\n",
    "        {\"role\": \"system\", \"content\": \"You are a caretaker for children. In this conversation, you are talking directly to the children.\"},\n",
    "        {\"role\": \"user\", \"content\": \"Can you tell me a love story about a prince and a princess. Keep the story under 300 words. Use simple language suitable for kids.\"},\n",
    "    ]\n",
    ")"
   ]
  },
  {
   "cell_type": "code",
   "execution_count": 4,
   "id": "99dfe5f5-6e29-4d9a-952e-4e921d3679d8",
   "metadata": {},
   "outputs": [
    {
     "name": "stdout",
     "output_type": "stream",
     "text": [
      "{\n",
      "  \"id\": \"chatcmpl-86zjReyiKKnznR9LCm2rr8I1ykdWp\",\n",
      "  \"object\": \"chat.completion\",\n",
      "  \"created\": 1696677957,\n",
      "  \"model\": \"gpt-3.5-turbo-0613\",\n",
      "  \"choices\": [\n",
      "    {\n",
      "      \"index\": 0,\n",
      "      \"message\": {\n",
      "        \"role\": \"assistant\",\n",
      "        \"content\": \"Once upon a time in a faraway kingdom, there lived a kind-hearted prince named William and a beautiful princess named Isabella. They were destined to meet and fall in love, bringing joy and unity to their land.\\n\\nOne sunny day, while exploring the enchanted forest, Prince William stumbled upon a trapped bird. Determined to set it free, he gently untangled the bird from a prickly vine. To his surprise, the bird transformed into a magical fairy named Lily, who bestowed a gift upon him\\u2014a golden key.\\n\\nUnbeknownst to William, the golden key was the only way to unlock the princess's heart. On the same day, Princess Isabella discovered a hidden door in the castle garden. With curiosity in her eyes, she used the key and entered a secret garden, where she found a beautiful bouquet of roses.\\n\\nAs fate would have it, the moment Isabella touched the roses, they transformed into a handsome prince. He introduced himself as Prince William and recounted the tale of the bird, the fairy, and the golden key. The princess's heart swelled with joy as she realized she had met her true love.\\n\\nTheir love grew stronger day by day as they ventured on grand adventures together. They shared laughter, formed unbreakable bonds, and inspired their people to seek kindness and compassion. Their love spread throughout the kingdom, bringing prosperity and harmony.\\n\\nOne year later, surrounded by their loved ones, Prince William and Princess Isabella were joined in holy matrimony. The kingdom celebrated with music, dance, and feasts that lasted for days. From that day forward, their love story became a legend, told and cherished by children for generations to come.\\n\\nAnd so, children, when you look up at the stars, remember the tale of Prince William and Princess Isabella and know that true love has the power to bring joy and unity to our world.\"\n",
      "      },\n",
      "      \"finish_reason\": \"stop\"\n",
      "    }\n",
      "  ],\n",
      "  \"usage\": {\n",
      "    \"prompt_tokens\": 53,\n",
      "    \"completion_tokens\": 378,\n",
      "    \"total_tokens\": 431\n",
      "  }\n",
      "}\n"
     ]
    }
   ],
   "source": [
    "print(response)"
   ]
  },
  {
   "cell_type": "code",
   "execution_count": 5,
   "id": "d60c6ef6-3cba-45ec-86bb-8961a74400e2",
   "metadata": {},
   "outputs": [
    {
     "name": "stdout",
     "output_type": "stream",
     "text": [
      "Once upon a time in a faraway kingdom, there lived a kind-hearted prince named William and a beautiful princess named Isabella. They were destined to meet and fall in love, bringing joy and unity to their land.\n",
      "\n",
      "One sunny day, while exploring the enchanted forest, Prince William stumbled upon a trapped bird. Determined to set it free, he gently untangled the bird from a prickly vine. To his surprise, the bird transformed into a magical fairy named Lily, who bestowed a gift upon him—a golden key.\n",
      "\n",
      "Unbeknownst to William, the golden key was the only way to unlock the princess's heart. On the same day, Princess Isabella discovered a hidden door in the castle garden. With curiosity in her eyes, she used the key and entered a secret garden, where she found a beautiful bouquet of roses.\n",
      "\n",
      "As fate would have it, the moment Isabella touched the roses, they transformed into a handsome prince. He introduced himself as Prince William and recounted the tale of the bird, the fairy, and the golden key. The princess's heart swelled with joy as she realized she had met her true love.\n",
      "\n",
      "Their love grew stronger day by day as they ventured on grand adventures together. They shared laughter, formed unbreakable bonds, and inspired their people to seek kindness and compassion. Their love spread throughout the kingdom, bringing prosperity and harmony.\n",
      "\n",
      "One year later, surrounded by their loved ones, Prince William and Princess Isabella were joined in holy matrimony. The kingdom celebrated with music, dance, and feasts that lasted for days. From that day forward, their love story became a legend, told and cherished by children for generations to come.\n",
      "\n",
      "And so, children, when you look up at the stars, remember the tale of Prince William and Princess Isabella and know that true love has the power to bring joy and unity to our world.\n"
     ]
    }
   ],
   "source": [
    "print(response['choices'][0]['message']['content'])"
   ]
  },
  {
   "cell_type": "code",
   "execution_count": 7,
   "id": "b1def81f-2bc5-4fe7-8c88-cc556449e393",
   "metadata": {},
   "outputs": [
    {
     "name": "stdout",
     "output_type": "stream",
     "text": [
      "Once upon a time, in a beautiful kingdom, there lived a kind-hearted prince named Alex and a lovely princess named Lily. They had never met before, but their hearts longed for true love.\n",
      "\n",
      "One sunny day, Prince Alex organized a grand fair in the palace gardens. He invited everyone from far and wide, hoping to find true love. The fair was filled with exciting games, tasty treats, and magical decorations.\n",
      "\n",
      "Meanwhile, Princess Lily heard about the fair and felt a warm spark inside. She decided to dress up in her finest gown and go with her loyal horse, Snowflake. As she arrived, Prince Alex's eyes met hers, and magically, their hearts connected in an instant.\n",
      "\n",
      "With every game they played, their love grew stronger. They danced together, laughed, and made wonderful memories. Everyone at the fair could see that they were meant to be together.\n",
      "\n",
      "But just as they were about to confess their love, a mighty storm approached, covering the sky with dark clouds. Prince Alex and Princess Lily got separated in the chaos. Fear consumed their hearts, fearing they would never find each other again.\n",
      "\n",
      "However, love is a powerful force. The prince and princess searched the fairgrounds, calling out each other's names. Finally, they found one another, their longing turning into pure joy. Their love had surpassed any obstacles thrown their way.\n",
      "\n",
      "Seeing the prince and princess united, the storm cleared away, and the sun shone brighter than ever before. The people of the kingdom rejoiced, celebrating the love story that had unfolded before their eyes.\n",
      "\n",
      "Prince Alex and Princess Lily were happily married, and their hearts remained forever bound. They ruled the kingdom with love and kindness, bringing joy to their people. And everyone lived happily ever after, inspired by their tale of true love.\n"
     ]
    }
   ],
   "source": [
    "print(response['choices'][0]['message']['content'])"
   ]
  },
  {
   "cell_type": "code",
   "execution_count": null,
   "id": "f9ae0345-eb06-4d7d-aab8-7e2f7427e25b",
   "metadata": {},
   "outputs": [],
   "source": []
  }
 ],
 "metadata": {
  "kernelspec": {
   "display_name": "Python 3 (ipykernel)",
   "language": "python",
   "name": "python3"
  },
  "language_info": {
   "codemirror_mode": {
    "name": "ipython",
    "version": 3
   },
   "file_extension": ".py",
   "mimetype": "text/x-python",
   "name": "python",
   "nbconvert_exporter": "python",
   "pygments_lexer": "ipython3",
   "version": "3.11.3"
  }
 },
 "nbformat": 4,
 "nbformat_minor": 5
}
